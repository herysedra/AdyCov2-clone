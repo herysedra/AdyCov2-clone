{
  "nbformat": 4,
  "nbformat_minor": 0,
  "metadata": {
    "colab": {
      "name": "Julia on Colab.ipynb",
      "provenance": [],
      "authorship_tag": "ABX9TyNooLnwDP0+apaapTawJLj0",
      "include_colab_link": true
    },
    "kernelspec": {
      "name": "python3",
      "display_name": "Python 3"
    }
  },
  "cells": [
    {
      "cell_type": "markdown",
      "metadata": {
        "id": "view-in-github",
        "colab_type": "text"
      },
      "source": [
        "<a href=\"https://colab.research.google.com/github/herysedra/covid19-mankaiza-clone2/blob/master/julia/Julia_on_Colab.ipynb\" target=\"_parent\"><img src=\"https://colab.research.google.com/assets/colab-badge.svg\" alt=\"Open In Colab\"/></a>"
      ]
    },
    {
      "cell_type": "code",
      "metadata": {
        "id": "5ccYQYFgJ1NA",
        "colab_type": "code",
        "colab": {}
      },
      "source": [
        "{\n",
        "  \"nbformat\": 4,\n",
        "  \"nbformat_minor\": 0,\n",
        "  \"metadata\": {\n",
        "    \"colab\": {\n",
        "      \"name\": \"Julia on Colab.ipynb\",\n",
        "      \"version\": \"0.3.2\",\n",
        "      \"provenance\": []\n",
        "    },\n",
        "    \"kernelspec\": {\n",
        "      \"name\": \"julia-1.4.1\",\n",
        "      \"display_name\": \"Julia 1.4.1\"\n",
        "    },\n",
        "    \"accelerator\": \"GPU\"\n",
        "  },\n",
        "  \"cells\": [\n",
        "    {\n",
        "      \"metadata\": {\n",
        "        \"id\": \"oMSuTc3pDlHv\",\n",
        "        \"colab_type\": \"code\",\n",
        "        \"colab\": {}\n",
        "      },\n",
        "      \"cell_type\": \"code\",\n",
        "      \"source\": [\n",
        "        \"\"\n",
        "      ],\n",
        "      \"execution_count\": 0,\n",
        "      \"outputs\": []\n",
        "    }\n",
        "  ]\n",
        "}"
      ],
      "execution_count": 0,
      "outputs": []
    }
  ]
}